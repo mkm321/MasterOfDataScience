{
 "cells": [
  {
   "cell_type": "markdown",
   "metadata": {},
   "source": [
    "## Statistics for Data Science\n",
    "## Worksheet 6\n",
    "### Companion to lecture 6"
   ]
  },
  {
   "cell_type": "markdown",
   "metadata": {},
   "source": [
    "We can look at the top few entries of the birth weight data using the `head` function."
   ]
  },
  {
   "cell_type": "code",
   "execution_count": null,
   "metadata": {},
   "outputs": [],
   "source": [
    "birthwt = read.csv(\"birthwt.csv\")\n",
    "head(birthwt, n=10)"
   ]
  },
  {
   "cell_type": "markdown",
   "metadata": {},
   "source": [
    "\n",
    "The data is stored in `R` in a `data.frame` it has two columns and 1226 rows. The functions `dim`, `nrow` and `ncol` are useful in this regard.\n",
    "\n"
   ]
  },
  {
   "cell_type": "code",
   "execution_count": null,
   "metadata": {
    "autoscroll": false
   },
   "outputs": [],
   "source": [
    "dim(birthwt)\n",
    "nrow(birthwt)\n",
    "ncol(birthwt)"
   ]
  },
  {
   "cell_type": "markdown",
   "metadata": {},
   "source": [
    "\n",
    "The variables in the data.frame have names as shown by `head`. We can also use the function `names`\n",
    "\n"
   ]
  },
  {
   "cell_type": "code",
   "execution_count": null,
   "metadata": {
    "autoscroll": false
   },
   "outputs": [],
   "source": [
    "names(birthwt)"
   ]
  },
  {
   "cell_type": "markdown",
   "metadata": {},
   "source": [
    "\n",
    "# Summaries\n",
    "\n",
    "With the smoking status variable `smoke`, a sensible summary is to tabulate the counts\n",
    "\n"
   ]
  },
  {
   "cell_type": "code",
   "execution_count": null,
   "metadata": {
    "autoscroll": false,
    "scrolled": true
   },
   "outputs": [],
   "source": [
    "table(birthwt$smoke)"
   ]
  },
  {
   "cell_type": "markdown",
   "metadata": {},
   "source": [
    "1. Using the help page for `barplot` (https://www.rdocumentation.org/packages/graphics/versions/3.6.2/topics/barplot), plot a bar plot comparing no and yes numbers (use the table above)\n"
   ]
  },
  {
   "cell_type": "code",
   "execution_count": null,
   "metadata": {
    "autoscroll": false
   },
   "outputs": [],
   "source": []
  },
  {
   "cell_type": "markdown",
   "metadata": {},
   "source": [
    "2. Calculate the mean, median, variance and standard deviation of the variable `bwt` (you can find the functions on https://www.rdocumentation.org)"
   ]
  },
  {
   "cell_type": "code",
   "execution_count": null,
   "metadata": {
    "autoscroll": false
   },
   "outputs": [],
   "source": []
  },
  {
   "cell_type": "markdown",
   "metadata": {},
   "source": [
    "The `range` function (https://www.rdocumentation.org/packages/base/versions/3.6.2/topics/range) actually gives the min and max, not there difference, but we can use `diff` to get this (https://www.rdocumentation.org/packages/base/versions/3.6.2/topics/diff).\n",
    "\n",
    "3. Calculate the min, max of `bwt` and from it the range."
   ]
  },
  {
   "cell_type": "code",
   "execution_count": null,
   "metadata": {
    "autoscroll": false
   },
   "outputs": [],
   "source": []
  },
  {
   "cell_type": "markdown",
   "metadata": {},
   "source": [
    "Quartiles are examples of a more general concept of **quantiles**. The first is given by"
   ]
  },
  {
   "cell_type": "code",
   "execution_count": null,
   "metadata": {
    "autoscroll": false
   },
   "outputs": [],
   "source": [
    "quantile(birthwt$bwt, 1/4)"
   ]
  },
  {
   "cell_type": "markdown",
   "metadata": {},
   "source": [
    "4. Calculate the 2nd and 3rd quartiles, using the `quartile` function (see https://www.rdocumentation.org/packages/dataMaid/versions/1.4.0/topics/quartiles if stuck)"
   ]
  },
  {
   "cell_type": "code",
   "execution_count": null,
   "metadata": {
    "autoscroll": false
   },
   "outputs": [],
   "source": []
  },
  {
   "cell_type": "markdown",
   "metadata": {},
   "source": [
    "5. Compare the output given for the second quartile to the median"
   ]
  },
  {
   "cell_type": "code",
   "execution_count": null,
   "metadata": {},
   "outputs": [],
   "source": []
  },
  {
   "cell_type": "markdown",
   "metadata": {},
   "source": [
    "6. Calculate the interquartile range first using the Q1 and Q3 values calculated above, and the check it is the same value you get from using the function `IQR` (https://www.rdocumentation.org/packages/stats/versions/3.6.2/topics/IQR)."
   ]
  },
  {
   "cell_type": "code",
   "execution_count": null,
   "metadata": {
    "autoscroll": false
   },
   "outputs": [],
   "source": []
  },
  {
   "cell_type": "markdown",
   "metadata": {},
   "source": [
    "For a quick look a many of these variables, one can just use `summary`:"
   ]
  },
  {
   "cell_type": "code",
   "execution_count": null,
   "metadata": {
    "autoscroll": false
   },
   "outputs": [],
   "source": [
    "summary(birthwt$bwt)"
   ]
  },
  {
   "cell_type": "markdown",
   "metadata": {},
   "source": [
    "\n",
    "# Histograms\n",
    "\n",
    "A simple way to plot a single quantitative variable is to use a histogram\n",
    "\n"
   ]
  },
  {
   "cell_type": "code",
   "execution_count": null,
   "metadata": {
    "autoscroll": false
   },
   "outputs": [],
   "source": [
    "hist(birthwt$bwt)"
   ]
  },
  {
   "cell_type": "markdown",
   "metadata": {},
   "source": [
    "\n",
    "As with most of `R` plotting the are a plethora of options. To change the x-axis label to something prettier, remove the annoying title, and colour in the bars we use:\n",
    "\n"
   ]
  },
  {
   "cell_type": "code",
   "execution_count": null,
   "metadata": {
    "autoscroll": false
   },
   "outputs": [],
   "source": [
    "hist(birthwt$bwt, xlab=\"Birth Weight\", main=\"\", col=\"lightblue\")"
   ]
  },
  {
   "cell_type": "markdown",
   "metadata": {},
   "source": [
    "\n",
    "To manually influence the number of bins/bars we use `breaks`\n",
    "\n"
   ]
  },
  {
   "cell_type": "code",
   "execution_count": null,
   "metadata": {
    "autoscroll": false
   },
   "outputs": [],
   "source": [
    "hist(birthwt$bwt, xlab=\"Birth Weight\", main=\"\", col=\"lightblue\", breaks=20)"
   ]
  },
  {
   "cell_type": "markdown",
   "metadata": {},
   "source": [
    "\n",
    "# Splitting the data up\n",
    "\n",
    "We obviously want to look at the data by smoking. The simplest way to do this is using a function called `aggregate`. This takes something called a formula which describes the relatioship of interest, the data and another function to use. For example,"
   ]
  },
  {
   "cell_type": "code",
   "execution_count": null,
   "metadata": {
    "autoscroll": false
   },
   "outputs": [],
   "source": [
    "aggregate(bwt~smoke, birthwt, mean)"
   ]
  },
  {
   "cell_type": "markdown",
   "metadata": {},
   "source": [
    "\n",
    "This will split `bwt` up by `smoke` (two groups), out of the `birthwt` data, and apply the mean function to the groups generated.\n",
    "\n",
    "Even\n",
    "\n"
   ]
  },
  {
   "cell_type": "code",
   "execution_count": 1,
   "metadata": {
    "autoscroll": false
   },
   "outputs": [
    {
     "ename": "ERROR",
     "evalue": "Error in eval(m$data, parent.frame()): object 'birthwt' not found\n",
     "output_type": "error",
     "traceback": [
      "Error in eval(m$data, parent.frame()): object 'birthwt' not found\nTraceback:\n",
      "1. aggregate(bwt ~ smoke, birthwt, summary)",
      "2. aggregate.formula(bwt ~ smoke, birthwt, summary)",
      "3. eval(m$data, parent.frame())",
      "4. eval(m$data, parent.frame())"
     ]
    }
   ],
   "source": [
    "aggregate(bwt~smoke, birthwt, summary)"
   ]
  },
  {
   "cell_type": "markdown",
   "metadata": {},
   "source": [
    "7. Replace mean in the aggregate statement to get a spit by median and sd."
   ]
  },
  {
   "cell_type": "markdown",
   "metadata": {},
   "source": [
    "# Split charts\n",
    "\n",
    "To split a histogram by a grouping variable like `smoke`, the easiest way is to use an add-on package called `lattice`. This is a very powerful visualisation package, but we need a small part of it. We call it as follows:"
   ]
  },
  {
   "cell_type": "code",
   "execution_count": null,
   "metadata": {
    "autoscroll": false
   },
   "outputs": [],
   "source": [
    "library(lattice)\n",
    "histogram(~bwt|smoke, data=birthwt)"
   ]
  },
  {
   "cell_type": "markdown",
   "metadata": {},
   "source": [
    "Note the (slightly different) formula interface, and the fact that we have to use `histogram` not `hist`."
   ]
  },
  {
   "cell_type": "markdown",
   "metadata": {},
   "source": [
    "# Box plots\n",
    "\n",
    "To make box plots, and comparative box plots the built in function `boxplot` is used."
   ]
  },
  {
   "cell_type": "code",
   "execution_count": null,
   "metadata": {
    "autoscroll": false
   },
   "outputs": [],
   "source": [
    "boxplot(birthwt$bwt)"
   ]
  },
  {
   "cell_type": "markdown",
   "metadata": {},
   "source": [
    "\n",
    "Sometimes horizontal plots are easier to see, and the open circles for outlying points can be changed. The `pch` parameter determines the plotting character by number. Number 16 is a filled circle.\n",
    "\n"
   ]
  },
  {
   "cell_type": "code",
   "execution_count": null,
   "metadata": {
    "autoscroll": false
   },
   "outputs": [],
   "source": [
    "boxplot(birthwt$bwt, horizontal=TRUE, pch=16)"
   ]
  },
  {
   "cell_type": "markdown",
   "metadata": {},
   "source": [
    "\n",
    "The `boxplot` function also has a formula interface, used when comparing groups.\n",
    "\n"
   ]
  },
  {
   "cell_type": "code",
   "execution_count": null,
   "metadata": {
    "autoscroll": false
   },
   "outputs": [],
   "source": [
    "boxplot(bwt ~smoke, data=birthwt, horizontal=TRUE, pch=16)"
   ]
  },
  {
   "cell_type": "markdown",
   "metadata": {},
   "source": [
    "\n",
    "# Difference in means\n",
    "\n",
    "The actual difference in means can be computed from the aggregate data\n",
    "\n"
   ]
  },
  {
   "cell_type": "code",
   "execution_count": null,
   "metadata": {
    "autoscroll": false
   },
   "outputs": [],
   "source": [
    "diff(aggregate(bwt~smoke, birthwt, mean)$bwt)"
   ]
  },
  {
   "cell_type": "markdown",
   "metadata": {},
   "source": [
    "\n",
    "Because the rows are alphabetically labelled, this is the yes-no difference. To get no-yes we make it negative.\n",
    "\n"
   ]
  },
  {
   "cell_type": "code",
   "execution_count": null,
   "metadata": {
    "autoscroll": false
   },
   "outputs": [],
   "source": [
    "-diff(aggregate(bwt~smoke, birthwt, mean)$bwt)"
   ]
  },
  {
   "cell_type": "code",
   "execution_count": null,
   "metadata": {
    "Rmd_chunk_options": "echo=FALSE, eval=TRUE",
    "autoscroll": false
   },
   "outputs": [],
   "source": [
    "set.seed(12345)"
   ]
  },
  {
   "cell_type": "markdown",
   "metadata": {},
   "source": [
    "\n",
    "To simulate the smoking variable is very easy - we use `sample` again, this time without replacement (the default) and generate a sample the same length as the original data. We then compute the difference in means for this labelling of smoke.\n",
    "\n"
   ]
  },
  {
   "cell_type": "code",
   "execution_count": null,
   "metadata": {
    "autoscroll": false
   },
   "outputs": [],
   "source": [
    "smoke.sim = sample(birthwt$smoke)\n",
    "-diff(aggregate(bwt~smoke.sim, birthwt, mean)$bwt)"
   ]
  },
  {
   "cell_type": "markdown",
   "metadata": {},
   "source": [
    "8. Use `replicate` to run for 1000 and 10000 simulations."
   ]
  },
  {
   "cell_type": "code",
   "execution_count": null,
   "metadata": {},
   "outputs": [],
   "source": []
  },
  {
   "cell_type": "markdown",
   "metadata": {},
   "source": [
    "The data set `salesEW.csv` contains the Sales data from lectures. \n",
    "\n",
    "9. Compute if there is a difference in the mean sales between the east and west offices. Remember we are interested in whether average sales are just different."
   ]
  },
  {
   "cell_type": "code",
   "execution_count": null,
   "metadata": {
    "Rmd_chunk_options": "include=FALSE",
    "autoscroll": false
   },
   "outputs": [],
   "source": []
  },
  {
   "cell_type": "markdown",
   "metadata": {},
   "source": [
    "The data set `Spider.csv` contains the anxiety levels of 24 arachnophobes when presented with either a picture or a real spider. \n",
    "\n",
    "10. Examine if the picture induces **less** anxiety than the real thing"
   ]
  },
  {
   "cell_type": "code",
   "execution_count": null,
   "metadata": {},
   "outputs": [],
   "source": []
  }
 ],
 "metadata": {
  "kernelspec": {
   "display_name": "R",
   "language": "R",
   "name": "ir"
  },
  "language_info": {
   "codemirror_mode": "r",
   "file_extension": ".r",
   "mimetype": "text/x-r-source",
   "name": "R",
   "pygments_lexer": "r",
   "version": "3.6.1"
  },
  "toc": {
   "base_numbering": 1,
   "nav_menu": {},
   "number_sections": true,
   "sideBar": true,
   "skip_h1_title": false,
   "title_cell": "Table of Contents",
   "title_sidebar": "Contents",
   "toc_cell": false,
   "toc_position": {},
   "toc_section_display": true,
   "toc_window_display": false
  }
 },
 "nbformat": 4,
 "nbformat_minor": 4
}
